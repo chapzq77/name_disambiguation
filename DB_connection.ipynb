{
 "cells": [
  {
   "cell_type": "markdown",
   "metadata": {},
   "source": [
    "## Module 호출"
   ]
  },
  {
   "cell_type": "code",
   "execution_count": 1,
   "metadata": {
    "collapsed": true
   },
   "outputs": [],
   "source": [
    "import pymysql as mysql\n",
    "import pandas as pd\n",
    "\n",
    "import numpy as np\n",
    "import pickle"
   ]
  },
  {
   "cell_type": "markdown",
   "metadata": {},
   "source": [
    "## DB 연결"
   ]
  },
  {
   "cell_type": "code",
   "execution_count": 2,
   "metadata": {
    "collapsed": true
   },
   "outputs": [],
   "source": [
    "IP = '192.9.65.20'\n",
    "ID = 'jinong'\n",
    "PW = 'wlsghdW595'\n",
    "DB_NAME = 'patent_DB'"
   ]
  },
  {
   "cell_type": "code",
   "execution_count": 3,
   "metadata": {
    "collapsed": false
   },
   "outputs": [],
   "source": [
    "conn = mysql.connect(host = IP, user = ID, password = PW, db = DB_NAME, charset='utf8')\n",
    "curs = conn.cursor()"
   ]
  },
  {
   "cell_type": "markdown",
   "metadata": {},
   "source": [
    "## Inventor information Pickle 파일 생성"
   ]
  },
  {
   "cell_type": "code",
   "execution_count": 4,
   "metadata": {
    "collapsed": false
   },
   "outputs": [],
   "source": [
    "sql = \"\"\"\n",
    "    SELECT\n",
    "        rawinventor.inventor_id, rawinventor.name_last, rawinventor.name_first,\n",
    "        rawassignee.organization, rawassignee.application_id, application_update.number,\n",
    "        application_update.number_updated\n",
    "   \n",
    "   FROM patent_DB.rawassignee\n",
    "    \n",
    "    INNER JOIN patent_DB.rawinventor\n",
    "        ON rawassignee.application_id = rawinventor.application_id\n",
    "        \n",
    "    INNER JOIN patent_DB.application_update\n",
    "        ON rawassignee.application_id = application_update.id;\n",
    "\"\"\"\n",
    "\n",
    "#curs.execute(sql)\n",
    "#field_names = [i[0] for i in curs.description]"
   ]
  },
  {
   "cell_type": "code",
   "execution_count": 6,
   "metadata": {
    "collapsed": false
   },
   "outputs": [],
   "source": [
    "inventor_df = pd.read_sql(sql,conn)"
   ]
  },
  {
   "cell_type": "code",
   "execution_count": 7,
   "metadata": {
    "collapsed": false
   },
   "outputs": [
    {
     "name": "stdout",
     "output_type": "stream",
     "text": [
      "pickled dump finished\n"
     ]
    }
   ],
   "source": [
    "pickle.dump(inventor_df, open('patent_data.pkl', \"wb\" ) )\n",
    "print(\"pickled dump finished\")"
   ]
  },
  {
   "cell_type": "markdown",
   "metadata": {},
   "source": [
    "## Citation information Pickle 파일 생성"
   ]
  },
  {
   "cell_type": "code",
   "execution_count": null,
   "metadata": {
    "collapsed": true
   },
   "outputs": [],
   "source": [
    "sql = \"\"\"\n",
    "  SELECT patent_id, application_id, number FROM patent_DB.usapplicationcitation;\n",
    "  \"\"\"\n",
    "\n",
    "#curs.execute(sql)\n",
    "#field_names = [i[0] for i in curs.description]\n",
    "\n",
    "citation_df = pd.read_sql(sql,conn)\n",
    "\n",
    "pickle.dump(citation_df, open('citation.pkl', \"wb\" ) )\n",
    "print(\"pickled dump finished\")"
   ]
  },
  {
   "cell_type": "markdown",
   "metadata": {},
   "source": [
    "## Patent information Pickle 파일 생성"
   ]
  },
  {
   "cell_type": "code",
   "execution_count": null,
   "metadata": {
    "collapsed": true
   },
   "outputs": [],
   "source": [
    "sql = \"\"\"\n",
    "  SELECT id, patent_id, number FROM patent_DB.application_sample;\n",
    "  \"\"\"\n",
    "\n",
    "#curs.execute(sql)\n",
    "#field_names = [i[0] for i in curs.description]\n",
    "\n",
    "app_df = pd.read_sql(sql,conn)\n",
    "\n",
    "pickle.dump(app_df, open('app_sample.pkl', \"wb\" ) )\n",
    "print(\"pickled dump finished\")"
   ]
  },
  {
   "cell_type": "markdown",
   "metadata": {},
   "source": [
    "## Raw inventor information Pickle 파일 생성"
   ]
  },
  {
   "cell_type": "code",
   "execution_count": null,
   "metadata": {
    "collapsed": true
   },
   "outputs": [],
   "source": [
    "sql = \"\"\"\n",
    "    SELECT application_id, inventor_id, name_first, name_last FROM  patent_DB.rawinventor\n",
    "\n",
    "\"\"\"\n",
    "inventor_df = pd.read_sql(sql,conn)\n",
    "\n",
    "pickle.dump(inventor_df, open('raw_inventor.pkl', \"wb\" ) )\n",
    "print(\"pickled dump finished\")"
   ]
  }
 ],
 "metadata": {
  "kernelspec": {
   "display_name": "Python 3",
   "language": "python",
   "name": "python3"
  },
  "language_info": {
   "codemirror_mode": {
    "name": "ipython",
    "version": 3
   },
   "file_extension": ".py",
   "mimetype": "text/x-python",
   "name": "python",
   "nbconvert_exporter": "python",
   "pygments_lexer": "ipython3",
   "version": "3.5.3"
  }
 },
 "nbformat": 4,
 "nbformat_minor": 2
}
